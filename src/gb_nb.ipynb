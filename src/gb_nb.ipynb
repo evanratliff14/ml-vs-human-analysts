{
 "cells": [
  {
   "cell_type": "code",
   "execution_count": 13,
   "id": "165d1ac2-078d-4c09-b03e-e820dde1a87a",
   "metadata": {},
   "outputs": [],
   "source": [
    "\n",
    "import pickle\n",
    "import pandas as pd\n",
    "import copy\n",
    "\n",
    "# import sklearn\n",
    "from sklearn.ensemble import HistGradientBoostingRegressor, GradientBoostingRegressor\n",
    "from sklearn.experimental import enable_iterative_imputer\n",
    "from sklearn.impute import IterativeImputer\n",
    "from sklearn.inspection import permutation_importance\n",
    "from sklearn.metrics import mean_squared_error, mean_absolute_error\n",
    "\n",
    "# feature selection\n",
    "from sklearn.feature_selection import SequentialFeatureSelector"
   ]
  },
  {
   "cell_type": "code",
   "execution_count": 70,
   "id": "8083372b-ffce-4a71-b66d-752b9d721735",
   "metadata": {},
   "outputs": [],
   "source": [
    "# COMMIT EVERY DAY\n",
    "#add log statements\n",
    "\n",
    "class Rb_GradientBooster:\n",
    "    def __init__(self, hist = True):\n",
    "        print(\"Initializing...\")\n",
    "        self.__train_years = [2003, 2004, 2005, 2006, 2007, 2008, 2009, 1010, 2011, 2012, 2013, 2014, 2015, 2016, 2017, 2018, 2019]\n",
    "        self.__test_years = [2021, 2022]\n",
    "        self.__hist = hist\n",
    "        fantasy_data = pd.read_pickle(\"fantasy_data.pkl\")\n",
    "\n",
    "        self.__features = [\n",
    "            'pacr', 'carries', 'rushing_yards', 'rushing_tds', 'rushing_fumbles', \n",
    "            'rushing_fumbles_lost', 'rushing_epa', 'receptions', 'targets', \n",
    "            'receiving_yards', 'receiving_tds', 'receiving_fumbles', \n",
    "            'receiving_air_yards', 'receiving_yards_after_catch', 'receiving_first_downs', 'receiving_epa', \n",
    "            'racr', 'target_share', 'air_yards_share', 'wopr_x', \n",
    "            'tgt_sh', 'ay_sh', \n",
    "            'wopr_y', 'ry_sh', 'rtd_sh', 'rfd_sh', 'rtdfd_sh', 'w8dom', \n",
    "            'fantasy_points_half_ppr', 'ir_games', 'out_games',\n",
    "            'carries/game', \n",
    "            'yards/carry', 'rushing_tds/game', 'receiving_tds/game', 'turnovers/game', 'adot', 'targets_game', \n",
    "            'height', 'weight', 'years_exp', 'age', 'depth_team', 'win_total_adj_line', \n",
    "            'draft_value', 'forty', 'bench', 'vertical', 'broad_jump', 'cone', \n",
    "            'shuttle',\n",
    "            'ppr/game', 'half_ppr/game', 'receiving_epa_team_tes', 'rushing_epa_team_qbs',  \n",
    "            'receiving_epa_team_wrs', 'receiving_epa_team_rbs', 'rushing_epa_team_rbs', 'dakota_team_qbs'\n",
    "            ]\n",
    "\n",
    "        rb_data = fantasy_data.loc[fantasy_data['position'] == 'RB']\n",
    "        rb_data = rb_data.dropna(subset = ['fantasy_points_half_ppr_future'])\n",
    "\n",
    "        # Imputation is required for gradient boosting class\n",
    "        # iterative imputer is a bayesian ridge regression model\n",
    "        # random state ON to control seeding/ control variables for feature evaluation\n",
    "        if hist == False:\n",
    "            print(\"Imputing missing values...\")\n",
    "            imputer =IterativeImputer(max_iter=500, n_nearest_features=5, \n",
    "                initial_strategy='median', random_state=42, \n",
    "                add_indicator=False)\n",
    "            imputer.set_output(transform = 'pandas')\n",
    "            rb_data[self.__features] = imputer.fit_transform(rb_data[self.__features])\n",
    "       \n",
    "\n",
    "        print(\"Preparing cross-validation sets\")\n",
    "        self.__rb_test = rb_data.loc[rb_data['season'].isin(self.__train_years)]\n",
    "        self.__rb_train = rb_data.loc[rb_data['season'].isin(self.__test_years)]\n",
    "        self.__rb_data = rb_data\n",
    "        print(\"Model is ready to train\")\n",
    "        \n",
    "    def set_model(self):\n",
    "        # what is friedman mse and why is it better?\n",
    "        # min samples split --> less overfitting?\n",
    "        # random state on?\n",
    "        # n estimators is number of trees in the ensemble\n",
    "        # use max leaf nodes instead of max depth??\n",
    "        # validation_fraction is 0.0 because we are using our own cross validation methods\n",
    "        # can use impurity decreate, max depth, or max leaf nodes. impurity decrease measures the MSE loss of a node\n",
    "        # can use a combo of size and impurity based limits\n",
    "        # n_iter_no_change, validation fraction focus on early stopping (validation fraction only used is n is integer)\n",
    "        print(self.__hist)\n",
    "        if self.__hist == True:\n",
    "            # can insert 'college' into categorical features\n",
    "            self.model = HistGradientBoostingRegressor(loss='squared_error', quantile=None,\n",
    "                learning_rate=0.1, max_iter=100, max_leaf_nodes=31, max_depth=None, min_samples_leaf=20, \n",
    "                l2_regularization=0.0, max_features=1.0, max_bins=255, categorical_features='from_dtype', \n",
    "                monotonic_cst=None, interaction_cst=None, warm_start=False, early_stopping='auto', scoring='loss', \n",
    "                validation_fraction=0.1, n_iter_no_change=10, tol=0.1, verbose=0, random_state=42)\n",
    "        elif self.__hist == False:\n",
    "            self.model = GradientBoostingRegressor(loss='squared_error', learning_rate=0.1, n_estimators=100,\n",
    "                criterion='friedman_mse', min_samples_split=250, min_samples_leaf=1, min_weight_fraction_leaf=0.0,\n",
    "                max_depth=None, min_impurity_decrease=64.0, init=None, random_state=42, max_features=None, alpha=0.9, \n",
    "                verbose=0, max_leaf_nodes=15, warm_start=False, validation_fraction=0.1, n_iter_no_change=None,\n",
    "                tol=0.1, ccp_alpha=0.0)\n",
    "            \n",
    "    def train_model(self):\n",
    "        self.model.fit(self.__rb_train[self.__features], self.__rb_train['fantasy_points_half_ppr_future'])\n",
    "\n",
    "\n",
    "    def test(self):\n",
    "        # staged predict: returns each stage of the prediction of the test set, vs just the final\n",
    "        self.__rb_test['predictions'] = self.model.predict(self.__rb_test[self.__features])\n",
    "        self.__rb_train['predictions'] = self.model.predict(self.__rb_train[self.__features])\n",
    "                \n",
    "        # stage_errors = []\n",
    "        # for i, y_pred_stage in enumerate(self.model.staged_predict(self.__rb_test)):\n",
    "        #     mse = mean_squared_error(self.__rb_test['fantasy_points_half_ppr'], y_pred_stage)\n",
    "        #     stage_errors.append(mse)\n",
    "        #     print(f\"Iteration {i+1}: MSE = {mse}\")\n",
    "\n",
    "    def set_features(self):\n",
    "        print(\"Setting features...\")\n",
    "        # make feature evaluation robust to outliers\n",
    "        # fantasy point evaluation is based on absolute points - risk is not part of strategy\n",
    "        model = copy.deepcopy(self.model)\n",
    "        selector = SequentialFeatureSelector(model, n_features_to_select='auto', tol=0.4, direction='forward',\n",
    "                                             scoring=\"neg_median_absolute_error\", cv=5, n_jobs=-1)\n",
    "        selector.fit(self.__rb_train[self.__features], self.__rb_train['fantasy_points_half_ppr_future'] )\n",
    "        indices_selected_arr = selector.get_support(indices = True).tolist()\n",
    "        features = []\n",
    "        for i in indices_selected_arr:\n",
    "            features.append(self.__features[i])\n",
    "        self.__features = features\n",
    "        print(\"Features set.\")\n",
    "\n",
    "    def cross_validate(self):\n",
    "        self.test_mse = mean_squared_error(self.__rb_test['fantasy_points_half_ppr_future'],self.__rb_test['predictions'])\n",
    "        self.test_mae = mean_absolute_error(self.__rb_test['fantasy_points_half_ppr_future'],self.__rb_test['predictions'])\n",
    "        self.train_mse = mean_squared_error(self.__rb_train['fantasy_points_half_ppr_future'],self.__rb_train['predictions'])\n",
    "        self.train_mae = mean_absolute_error(self.__rb_train['fantasy_points_half_ppr_future'],self.__rb_train['predictions'])\n",
    "        \n",
    "    def __str__(self):\n",
    "        model_string = \"Features: \\n\"\n",
    "        model_string = model_string + str(self.__features) + \"\\n\"\n",
    "        # intentional side effect\n",
    "        print(self.__rb_test[['player_name', 'predictions','fantasy_points_half_ppr_future', 'season']])\n",
    "        self.__rb_test[['player_name', 'predictions', 'fantasy_points_half_ppr_future', 'season']].to_csv('predictions.csv')\n",
    "        self.cross_validate()\n",
    "        model_string += \"Test MSE: \" + str(self.test_mse) + \"\\n\"\n",
    "        model_string += \"Test MAE: \" + str(self.test_mae) + \"\\n\"\n",
    "        model_string += \"Train MSE: \" + str(self.train_mse) + \"\\n\"\n",
    "        model_string += \"Test MSE: \" + str(self.train_mae) + \"\\n\"\n",
    "        return model_string\n",
    "        \n",
    "        \n",
    "    "
   ]
  },
  {
   "cell_type": "code",
   "execution_count": 71,
   "id": "c62127a7-0623-4ea1-b314-4e90cf2991ef",
   "metadata": {},
   "outputs": [
    {
     "name": "stdout",
     "output_type": "stream",
     "text": [
      "Initializing...\n",
      "Preparing cross-validation sets\n",
      "Model is ready to train\n"
     ]
    }
   ],
   "source": [
    "model = Rb_GradientBooster(hist = True)"
   ]
  },
  {
   "cell_type": "code",
   "execution_count": 72,
   "id": "b12f6d83-7421-4e12-a09f-8bf2102af782",
   "metadata": {},
   "outputs": [
    {
     "name": "stdout",
     "output_type": "stream",
     "text": [
      "True\n"
     ]
    }
   ],
   "source": [
    "model.set_model()"
   ]
  },
  {
   "cell_type": "code",
   "execution_count": 73,
   "id": "031712f5-383e-4729-ae64-35eda243fc0c",
   "metadata": {},
   "outputs": [
    {
     "name": "stdout",
     "output_type": "stream",
     "text": [
      "Setting features...\n",
      "Features set.\n"
     ]
    }
   ],
   "source": [
    "model.set_features()"
   ]
  },
  {
   "cell_type": "code",
   "execution_count": 74,
   "id": "52218274-3abe-492f-9d6b-43590086bb29",
   "metadata": {},
   "outputs": [],
   "source": [
    "model.train_model()"
   ]
  },
  {
   "cell_type": "code",
   "execution_count": 75,
   "id": "d09064d3-750d-4bd9-a80c-d39ed9cf79e0",
   "metadata": {},
   "outputs": [
    {
     "name": "stdout",
     "output_type": "stream",
     "text": [
      "         player_name  predictions  fantasy_points_half_ppr_future  season\n",
      "75    Ricky Williams   127.600413                           230.0    2008\n",
      "76    Ricky Williams   175.857682                           104.9    2009\n",
      "79      Sammy Morris    55.387898                           111.7    2003\n",
      "80      Sammy Morris   136.705379                            21.2    2004\n",
      "82      Sammy Morris    46.888602                           137.3    2007\n",
      "...              ...          ...                             ...     ...\n",
      "5583      Nick Chubb   220.909913                           239.1    2018\n",
      "5599   Kalen Ballage    50.672365                            44.8    2018\n",
      "5625   Royce Freeman    68.938820                           120.7    2018\n",
      "5628  Saquon Barkley   175.857682                           218.1    2018\n",
      "5633     Sony Michel    98.789644                           146.6    2018\n",
      "\n",
      "[914 rows x 4 columns]\n",
      "Features: \n",
      "['fantasy_points_half_ppr']\n",
      "Test MSE: 4892.761263544685\n",
      "Test MAE: 52.31164569322167\n",
      "Train MSE: 3364.1656456221467\n",
      "Test MSE: 42.796585963706725\n",
      "\n"
     ]
    },
    {
     "name": "stderr",
     "output_type": "stream",
     "text": [
      "C:\\Users\\Evan Ratliff\\AppData\\Local\\Temp\\ipykernel_23156\\1387958821.py:82: SettingWithCopyWarning: \n",
      "A value is trying to be set on a copy of a slice from a DataFrame.\n",
      "Try using .loc[row_indexer,col_indexer] = value instead\n",
      "\n",
      "See the caveats in the documentation: https://pandas.pydata.org/pandas-docs/stable/user_guide/indexing.html#returning-a-view-versus-a-copy\n",
      "  self.__rb_test['predictions'] = self.model.predict(self.__rb_test[self.__features])\n",
      "C:\\Users\\Evan Ratliff\\AppData\\Local\\Temp\\ipykernel_23156\\1387958821.py:83: SettingWithCopyWarning: \n",
      "A value is trying to be set on a copy of a slice from a DataFrame.\n",
      "Try using .loc[row_indexer,col_indexer] = value instead\n",
      "\n",
      "See the caveats in the documentation: https://pandas.pydata.org/pandas-docs/stable/user_guide/indexing.html#returning-a-view-versus-a-copy\n",
      "  self.__rb_train['predictions'] = self.model.predict(self.__rb_train[self.__features])\n"
     ]
    }
   ],
   "source": [
    "model.test()\n",
    "\n",
    "print(model)"
   ]
  },
  {
   "cell_type": "code",
   "execution_count": 40,
   "id": "98a91b45-9ac2-4275-bca8-7cc085f440b7",
   "metadata": {},
   "outputs": [],
   "source": [
    "# def shap(self):\n",
    "\n",
    "    # def permutation_importance\n",
    "\n",
    "        \n",
    "\n",
    "\n",
    "# use sklearn gradient booster\n",
    "# set up corr matrix\n",
    "# todo: set on only top k\n",
    "# set up permutation importance\n",
    "#calculate other rbs_epa\n",
    "# todo: set up shap values\n",
    "\n",
    "## output:\n",
    "# corr matrix\n",
    "# outputs predictions\n",
    "# outputs feature imp\n",
    "# outputs MSE, MAE"
   ]
  },
  {
   "cell_type": "code",
   "execution_count": null,
   "id": "4ed96760-09cd-4802-95dd-e26e19b510da",
   "metadata": {},
   "outputs": [],
   "source": []
  }
 ],
 "metadata": {
  "kernelspec": {
   "display_name": "Python 3 (ipykernel)",
   "language": "python",
   "name": "python3"
  },
  "language_info": {
   "codemirror_mode": {
    "name": "ipython",
    "version": 3
   },
   "file_extension": ".py",
   "mimetype": "text/x-python",
   "name": "python",
   "nbconvert_exporter": "python",
   "pygments_lexer": "ipython3",
   "version": "3.12.9"
  }
 },
 "nbformat": 4,
 "nbformat_minor": 5
}

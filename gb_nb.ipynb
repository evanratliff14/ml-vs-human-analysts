{
 "cells": [
  {
   "cell_type": "code",
   "execution_count": 2,
   "id": "165d1ac2-078d-4c09-b03e-e820dde1a87a",
   "metadata": {},
   "outputs": [],
   "source": [
    "# import sklearn\n",
    "from sklearn.ensemble import GradientBoostingRegressor\n",
    "import pandas as pd\n",
    "from sklearn.experimental import enable_iterative_imputer\n",
    "from sklearn.inspection import permutation_importance\n",
    "from sklearn.metrics import mean_squared_error, mean_absolute_error\n",
    "\n",
    "# feature selection\n",
    "from sklearn.feature_selection import SequentialFeatureSelector"
   ]
  },
  {
   "cell_type": "code",
   "execution_count": 4,
   "id": "8083372b-ffce-4a71-b66d-752b9d721735",
   "metadata": {},
   "outputs": [
    {
     "ename": "SyntaxError",
     "evalue": "invalid character '，' (U+FF0C) (1699948047.py, line 55)",
     "output_type": "error",
     "traceback": [
      "\u001b[1;36m  Cell \u001b[1;32mIn[4], line 55\u001b[1;36m\u001b[0m\n\u001b[1;33m    max_depth=\"None\"，min_impurity_decrease=64.0, init=None, random_state=42, max_features=None, alpha=0.9,\u001b[0m\n\u001b[1;37m                    ^\u001b[0m\n\u001b[1;31mSyntaxError\u001b[0m\u001b[1;31m:\u001b[0m invalid character '，' (U+FF0C)\n"
     ]
    }
   ],
   "source": [
    "# COMMIT EVERY DAY\n",
    "\n",
    "class rb_gb:\n",
    "    def __init__(self):\n",
    "        self.__train_years = [2003, 2004, 2005, 2006, 2007, 2008, 2009, 1010, 2011, 2012, 2013, 2014, 2015, 2016, 2017, 2018, 2019]\n",
    "        self.__test_years = [2021, 2022]\n",
    "        with open('fantasy_data.pkl', 'rb') as file:\n",
    "            fantasy_data = pickle.load(file)\n",
    "\n",
    "        rb_data = fantasy_data.loc[fantasy_data['position'] == 'RB']\n",
    "\n",
    "        # Imputation is required for gradient boosting class\n",
    "        # iterative imputer is a bayesian ridge regression model\n",
    "        # random state ON to control seeding/ control variables for feature evaluation\n",
    "        rb_data =IterativeImputer(max_iter=100, n_nearest_features=5, \n",
    "            initial_strategy='median', random_state=42, \n",
    "            add_indicator=False)\n",
    "\n",
    "        self.__rb_test = rb_data.loc[rb_data['season'].isin[self.__train_years]]\n",
    "        self.__rb_train = rb_data.loc[rb_data['season'].isin[self.__test_years]]\n",
    "        self.__rb_data = rb_data\n",
    "\n",
    "        self.__features = [\n",
    "            'pacr', 'carries', 'rushing_yards', 'rushing_tds', 'rushing_fumbles', \n",
    "            'rushing_fumbles_lost', 'rushing_epa', 'rushing_2pt_conversions', 'receptions', 'targets', \n",
    "            'receiving_yards', 'receiving_tds', 'receiving_fumbles', 'receiving_fumbles_lost', \n",
    "            'receiving_air_yards', 'receiving_yards_after_catch', 'receiving_first_downs', 'receiving_epa', \n",
    "            'receiving_2pt_conversions', 'racr', 'target_share', 'air_yards_share', 'wopr_x', \n",
    "            'games', 'tgt_sh', 'ay_sh', \n",
    "            'wopr_y', 'ry_sh', 'rtd_sh', 'rfd_sh', 'rtdfd_sh', 'w8dom', \n",
    "            'fantasy_points_half_ppr', 'ir_games', 'out_games', 'avg_separation', 'avg_yac_above_expectation', \n",
    "            'catch_percentage', 'rush_yards_over_expected_per_att', 'rush_pct_over_expected', \n",
    "            'carries/game', \n",
    "            'yards/carry', 'rushing_tds/game', 'receiving_tds/game', 'turnovers/game', 'adot', 'targets_game', \n",
    "            'team', 'depth_chart_position', 'height', 'weight', 'years_exp', 'age', 'depth_team', 'win_total_adj_line', \n",
    "            'gsis_id', 'college', 'pick', 'draft_value', 'forty', 'bench', 'vertical', 'broad_jump', 'cone', \n",
    "            'shuttle', 'fantasy_points_future', 'fantasy_points_ppr_future', \n",
    "            'fantasy_points_half_ppr_future', 'games_future', 'team_future', 'future_ppr/game', 'future_half_ppr/game', \n",
    "            'ppr/game', 'half_ppr/game', 'receiving_epa_team_tes', 'rushing_epa_team_qbs',  'receiving_epa_team_wrs', 'receiving_epa_team_rbs', 'rushing_epa_team_rbs'\n",
    "            ]\n",
    "        self.__set_features()\n",
    "        self.__train_model()\n",
    "        \n",
    "    def train_model(self):\n",
    "        # what is friedman mse and why is it better?\n",
    "        # min samples split --> less overfitting?\n",
    "        # random state on?\n",
    "        # n estimators is number of trees in the ensemble\n",
    "        # use max leaf nodes instead of max depth??\n",
    "        # validation_fraction is 0.0 because we are using our own cross validation methods\n",
    "        # can use impurity decreate, max depth, or max leaf nodes. impurity decrease measures the MSE loss of a node\n",
    "        # can use a combo of size and impurity based limits\n",
    "        self.model = GradientBoostingRegressor(loss='squared_error', learning_rate=0.1, n_estimators=100,\n",
    "            criterion='friedman_mse', min_samples_split=None, min_samples_leaf=1, min_weight_fraction_leaf=0.0,\n",
    "            max_depth=\"None\", min_impurity_decrease=64.0, init=None, random_state=42, max_features=None, alpha=0.9, \n",
    "            verbose=0, max_leaf_nodes=15, warm_start=False, validation_fraction=0.0, n_iter_no_change=None,\n",
    "            tol=0.0001, ccp_alpha=0.0)[self._rb_train[self._features], self._rb_train['fantasy_points_half_ppr_future']]\n",
    "\n",
    "\n",
    "    def test(self):\n",
    "        self._rb_test['results'] = self.model(self._rb_test[features], self._rb_test['fantasy_points_half_ppr_future'])\n",
    "\n",
    "    def set_features(self):\n",
    "        selector = SequentialFeatureSelector(self.model, *, n_features_to_select='auto', tol=None, direction='forward', scoring=\"mean_absolute_error\", cv=5, n_jobs=-1)\n",
    "        selector.fit(self.__rb_train['features'], self.__rb_train['fantasy_points_half_ppr_future'] )\n",
    "        indices_selected_arr = selector.getSupport(indices = True).toList()\n",
    "        features = []\n",
    "        for i in indices_selected_arr:\n",
    "            features.append(self.__features[i])\n",
    "        self.__features = features"
   ]
  },
  {
   "cell_type": "code",
   "execution_count": null,
   "id": "c62127a7-0623-4ea1-b314-4e90cf2991ef",
   "metadata": {},
   "outputs": [],
   "source": [
    "model = rb_gb()"
   ]
  },
  {
   "cell_type": "code",
   "execution_count": null,
   "id": "5463854e-9254-4b08-8819-daebc13b15c0",
   "metadata": {},
   "outputs": [],
   "source": [
    "model.set_features()"
   ]
  },
  {
   "cell_type": "code",
   "execution_count": null,
   "id": "52218274-3abe-492f-9d6b-43590086bb29",
   "metadata": {},
   "outputs": [],
   "source": [
    "model.train_model()"
   ]
  },
  {
   "cell_type": "code",
   "execution_count": null,
   "id": "d09064d3-750d-4bd9-a80c-d39ed9cf79e0",
   "metadata": {},
   "outputs": [],
   "source": [
    "model.test()"
   ]
  },
  {
   "cell_type": "code",
   "execution_count": null,
   "id": "98a91b45-9ac2-4275-bca8-7cc085f440b7",
   "metadata": {},
   "outputs": [],
   "source": [
    "# def shap(self):\n",
    "\n",
    "    # def permutation_importance\n",
    "\n",
    "        \n",
    "\n",
    "\n",
    "# use sklearn gradient booster\n",
    "# set up corr matrix\n",
    "# todo: set on only top k\n",
    "# set up permutation importance\n",
    "#calculate other rbs_epa\n",
    "# todo: set up shap values\n",
    "\n",
    "## output:\n",
    "# corr matrix\n",
    "# outputs predictions\n",
    "# outputs feature imp\n",
    "# outputs MSE, MAE"
   ]
  }
 ],
 "metadata": {
  "kernelspec": {
   "display_name": "Python 3 (ipykernel)",
   "language": "python",
   "name": "python3"
  },
  "language_info": {
   "codemirror_mode": {
    "name": "ipython",
    "version": 3
   },
   "file_extension": ".py",
   "mimetype": "text/x-python",
   "name": "python",
   "nbconvert_exporter": "python",
   "pygments_lexer": "ipython3",
   "version": "3.12.8"
  }
 },
 "nbformat": 4,
 "nbformat_minor": 5
}
